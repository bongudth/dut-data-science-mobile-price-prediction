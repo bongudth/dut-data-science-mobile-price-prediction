{
 "cells": [
  {
   "cell_type": "markdown",
   "metadata": {},
   "source": [
    "# Data Cleaning"
   ]
  },
  {
   "cell_type": "markdown",
   "metadata": {},
   "source": [
    "### 🪡 Merge raw_data files into one dataframe"
   ]
  },
  {
   "cell_type": "code",
   "execution_count": 1,
   "metadata": {},
   "outputs": [
    {
     "name": "stdout",
     "output_type": "stream",
     "text": [
      "<class 'pandas.core.frame.DataFrame'>\n",
      "RangeIndex: 1622 entries, 0 to 1621\n",
      "Data columns (total 22 columns):\n",
      " #   Column             Non-Null Count  Dtype \n",
      "---  ------             --------------  ----- \n",
      " 0   Unnamed: 0         1622 non-null   int64 \n",
      " 1   Name               1622 non-null   object\n",
      " 2   Screen size        875 non-null    object\n",
      " 3   Screen type        1427 non-null   object\n",
      " 4   Rear camera        360 non-null    object\n",
      " 5   Front camera       359 non-null    object\n",
      " 6   Chip               1364 non-null   object\n",
      " 7   RAM                1466 non-null   object\n",
      " 8   ROM                1454 non-null   object\n",
      " 9   Batery             1336 non-null   object\n",
      " 10  SIM                1357 non-null   object\n",
      " 11  OS                 1375 non-null   object\n",
      " 12  Screen resolution  1341 non-null   object\n",
      " 13  Screen feature     188 non-null    object\n",
      " 14  CPU type           222 non-null    object\n",
      " 15  Weight             245 non-null    object\n",
      " 16  Bluetooth          258 non-null    object\n",
      " 17  Refesh rate        174 non-null    object\n",
      " 18  Price              1613 non-null   object\n",
      " 19  Camera             1083 non-null   object\n",
      " 20  Mobile network     946 non-null    object\n",
      " 21  Screen             96 non-null     object\n",
      "dtypes: int64(1), object(21)\n",
      "memory usage: 278.9+ KB\n"
     ]
    }
   ],
   "source": [
    "import pandas as pd\n",
    "\n",
    "raw_data_files = [pd.read_csv('raw_data/cellphoneS.csv'),\n",
    "                  pd.read_csv('raw_data/hoangHa1.csv'),\n",
    "                  pd.read_csv('raw_data/hoangHa2.csv'),\n",
    "                  pd.read_csv('raw_data/thegioididong.csv')]\n",
    "\n",
    "data = pd.concat(raw_data_files, ignore_index=True)\n",
    "\n",
    "data.info()"
   ]
  },
  {
   "cell_type": "markdown",
   "metadata": {},
   "source": [
    "### ✂️ Drop the unnecessary columns"
   ]
  },
  {
   "cell_type": "code",
   "execution_count": 2,
   "metadata": {},
   "outputs": [],
   "source": [
    "data.drop(['Unnamed: 0', 'Name', 'SIM', 'Weight'], axis=1, inplace=True)"
   ]
  },
  {
   "cell_type": "markdown",
   "metadata": {},
   "source": [
    "### 🚫 Check missing values"
   ]
  },
  {
   "cell_type": "code",
   "execution_count": 3,
   "metadata": {},
   "outputs": [
    {
     "data": {
      "text/plain": [
       "Screen size           747\n",
       "Screen type           195\n",
       "Rear camera          1262\n",
       "Front camera         1263\n",
       "Chip                  258\n",
       "RAM                   156\n",
       "ROM                   168\n",
       "Batery                286\n",
       "OS                    247\n",
       "Screen resolution     281\n",
       "Screen feature       1434\n",
       "CPU type             1400\n",
       "Bluetooth            1364\n",
       "Refesh rate          1448\n",
       "Price                   9\n",
       "Camera                539\n",
       "Mobile network        676\n",
       "Screen               1526\n",
       "dtype: int64"
      ]
     },
     "execution_count": 3,
     "metadata": {},
     "output_type": "execute_result"
    }
   ],
   "source": [
    "data.isnull().sum()"
   ]
  },
  {
   "cell_type": "markdown",
   "metadata": {},
   "source": [
    "### ✂️ Remove rows with *'Price'* is *NaN*"
   ]
  },
  {
   "cell_type": "code",
   "execution_count": 4,
   "metadata": {},
   "outputs": [],
   "source": [
    "data = data[data['Price'].notnull()]"
   ]
  },
  {
   "cell_type": "markdown",
   "metadata": {},
   "source": [
    "### ✂️ Remove rows with *'Mobile network'* has *2G*"
   ]
  },
  {
   "cell_type": "code",
   "execution_count": 5,
   "metadata": {},
   "outputs": [],
   "source": [
    "data = data[data['Mobile network'].str.contains('2G') == False]"
   ]
  },
  {
   "cell_type": "markdown",
   "metadata": {},
   "source": [
    "### ✂️ Drop columns with more than 1200 missing values"
   ]
  },
  {
   "cell_type": "code",
   "execution_count": 6,
   "metadata": {},
   "outputs": [],
   "source": [
    "data.drop(['Rear camera', 'Front camera', 'Screen feature', 'CPU type', 'Bluetooth', 'Refesh rate', 'Screen'], axis=1, inplace=True)"
   ]
  },
  {
   "cell_type": "code",
   "execution_count": 7,
   "metadata": {},
   "outputs": [
    {
     "name": "stdout",
     "output_type": "stream",
     "text": [
      "<class 'pandas.core.frame.DataFrame'>\n",
      "Int64Index: 898 entries, 268 to 1524\n",
      "Data columns (total 11 columns):\n",
      " #   Column             Non-Null Count  Dtype \n",
      "---  ------             --------------  ----- \n",
      " 0   Screen size        401 non-null    object\n",
      " 1   Screen type        898 non-null    object\n",
      " 2   Chip               858 non-null    object\n",
      " 3   RAM                898 non-null    object\n",
      " 4   ROM                898 non-null    object\n",
      " 5   Batery             770 non-null    object\n",
      " 6   OS                 842 non-null    object\n",
      " 7   Screen resolution  890 non-null    object\n",
      " 8   Price              898 non-null    object\n",
      " 9   Camera             890 non-null    object\n",
      " 10  Mobile network     898 non-null    object\n",
      "dtypes: object(11)\n",
      "memory usage: 84.2+ KB\n"
     ]
    }
   ],
   "source": [
    "data.info()"
   ]
  },
  {
   "cell_type": "markdown",
   "metadata": {},
   "source": [
    "### 🧹 ['Screen size']"
   ]
  },
  {
   "cell_type": "code",
   "execution_count": 8,
   "metadata": {},
   "outputs": [
    {
     "data": {
      "text/plain": [
       "array(['6.67\"', nan, '6.1\"', '6.6\"', '6.8\", Tần số quét: 1 - 120 Hz',\n",
       "       '6.4\"', '6.43\" - Tần số quét 90 Hz', '6.67\" - Tần số quét 120 Hz',\n",
       "       '6.5\" - Tần số quét 60 Hz', '5.4\"', '6.8\"', '6.43\"', '6.5\"',\n",
       "       '6.67”', '6.52 inches, 102.6 cm2 (~81.2% screen-to-body ratio)',\n",
       "       \"Hole punch screen 6.43''\", '6.56\" - Tần số quét 90 Hz', \"6.4'\",\n",
       "       '4.7\" - Tần số quét Hãng không công bố', '1.77\"', '6,6 inch',\n",
       "       '6.28 inches', '2.4\"', '6.6\" - Tần số quét 60 Hz',\n",
       "       '6.4\" - Tần số quét 90 Hz', '6.5”', '6.53\"', '5\"'], dtype=object)"
      ]
     },
     "execution_count": 8,
     "metadata": {},
     "output_type": "execute_result"
    }
   ],
   "source": [
    "data['Screen size'].unique()"
   ]
  },
  {
   "cell_type": "code",
   "execution_count": 9,
   "metadata": {},
   "outputs": [
    {
     "data": {
      "text/plain": [
       "array([6.67,  nan, 6.1 , 6.6 , 6.8 , 6.4 , 6.43, 6.5 , 5.4 , 6.52, 6.56,\n",
       "       4.7 , 1.77, 6.28, 2.4 , 6.53])"
      ]
     },
     "execution_count": 9,
     "metadata": {},
     "output_type": "execute_result"
    }
   ],
   "source": [
    "import re\n",
    "\n",
    "def filter_screen_size(string):\n",
    "    string = str(string)\n",
    "    string = string.strip()\n",
    "\n",
    "    # if string is empty, return NaN\n",
    "    if string == '':\n",
    "        return None\n",
    "\n",
    "    # replace all commas with dots\n",
    "    string = string.replace(',', '.')\n",
    "\n",
    "    # remove all inch characters\n",
    "    string = string.replace('\"', '')\n",
    "\n",
    "    # find all string with format 'x.x'\n",
    "    matched_values = re.findall('\\d+\\.\\d+', string)\n",
    "\n",
    "    # convert the first matched value to float\n",
    "    if len(matched_values) > 0:\n",
    "        return float(matched_values[0])\n",
    "\n",
    "    return None\n",
    "\n",
    "data['Screen size'] = data['Screen size'].apply(filter_screen_size)\n",
    "\n",
    "data['Screen size'].unique()"
   ]
  },
  {
   "cell_type": "markdown",
   "metadata": {},
   "source": [
    "### 🧹 ['Screen type']"
   ]
  },
  {
   "cell_type": "code",
   "execution_count": 10,
   "metadata": {},
   "outputs": [
    {
     "data": {
      "text/plain": [
       "array(['AMOLED', 'Dynamic AMOLED 2X',\n",
       "       'Dynamic AMOLED 2X, 10 - 120 Hz, Infinity O', 'Super AMOLED',\n",
       "       'OLED', 'IPS LCD', 'PLS LCD', 'Thiết kế hiện đại màn hình lỗ',\n",
       "       '720 x 1600 pixels, 20:9 ratio (~269 ppi density)',\n",
       "       'QQVGA, Màu màn hình: 262K', 'IPS LCD, 90Hz',\n",
       "       'AMOLED, 1 tỷ màu, HDR10+, 120Hz, tỷ lệ 20:9, 6.28 inches, Full HD+ (1080 x 2400 pixels), Corning Gorilla Glass Victus, Cảm biến vân tay trong màn hình, Cảm ứng điện dung đa điểm',\n",
       "       'LCD', 'Đang cập nhật', 'TFT LCD',\n",
       "       '20:9 màn hình giọt nước | Tốc độ làm tươi màn hình 90Hz'],\n",
       "      dtype=object)"
      ]
     },
     "execution_count": 10,
     "metadata": {},
     "output_type": "execute_result"
    }
   ],
   "source": [
    "data['Screen type'].unique()"
   ]
  },
  {
   "cell_type": "code",
   "execution_count": 11,
   "metadata": {},
   "outputs": [
    {
     "data": {
      "text/plain": [
       "OLED    481\n",
       "LCD     345\n",
       "Name: Screen type, dtype: int64"
      ]
     },
     "execution_count": 11,
     "metadata": {},
     "output_type": "execute_result"
    }
   ],
   "source": [
    "def filter_screen_type(string):\n",
    "    string = str(string)\n",
    "    \n",
    "    # get all types of screen\n",
    "    screen_types = ['OLED', 'LCD']\n",
    "    \n",
    "    if string in screen_types:\n",
    "        return string\n",
    "\n",
    "    # convert string to one of the screen types\n",
    "    for screen_type in screen_types:\n",
    "        if screen_type in string:\n",
    "            return screen_type\n",
    "\n",
    "    return None\n",
    "\n",
    "data['Screen type'] = data['Screen type'].apply(filter_screen_type)\n",
    "\n",
    "data['Screen type'].value_counts()"
   ]
  },
  {
   "cell_type": "markdown",
   "metadata": {},
   "source": [
    "### 🧹 ['Chip']"
   ]
  },
  {
   "cell_type": "code",
   "execution_count": 12,
   "metadata": {},
   "outputs": [
    {
     "data": {
      "text/plain": [
       "array(['Snapdragon 732G 8 nhân', 'Snapdragon 888 8 nhân',\n",
       "       'Snapdragon® 8 Gen 1 (4nm)', 'MediaTek Helio G80 8 nhân',\n",
       "       'Apple A15 Bionic 6 nhân', 'MediaTek MT6765 8 nhân',\n",
       "       'Snapdragon 680 8 nhân', 'MediaTek Helio G96 8 nhân',\n",
       "       'Snapdragon 695 5G 8 nhân', 'Apple A13 Bionic 6 nhân',\n",
       "       'Apple A14 Bionic 6 nhân', 'MediaTek Helio G35 8 nhân',\n",
       "       'Snapdragon 662 8 nhân', nan, 'Exynos 2100 8 nhân',\n",
       "       'MediaTek Helio G95 8 nhân', 'Snapdragon 765G 8 nhân',\n",
       "       'Snapdragon 439 8 nhân', 'MediaTek Helio G95',\n",
       "       'MediaTek Dimensity 700 8 nhân 5G',\n",
       "       'MediaTek Dimensity 800U 5G 8 nhân', 'Spreadtrum T610 8 nhân',\n",
       "       'MediaTek Helio G88 8 nhân', 'Spreadtrum SC9863A 8 nhân',\n",
       "       'Snapdragon 778G 5G 8 nhân', 'MediaTek Helio P35 8 nhân',\n",
       "       'Unisoc T606 8 nhân', 'MediaTek Dimensity 810 5G 8 nhân',\n",
       "       'Unisoc T618 8 nhân', 'Mediatek Helio G85, Antutu 205,950',\n",
       "       'MediaTek MT6762D Helio A25 (12 nm)',\n",
       "       'MediaTek Dimensity 920 5G 8 nhân',\n",
       "       'Dimensity\\xa0900 5G, Octa-core 2.4GHz',\n",
       "       'MediaTek Dimensity 920 5G', 'ums9117', 'Unisoc T606',\n",
       "       'Qualcomm SM8450 Snapdragon 8 Gen 1 (4 nm), 8 nhân (1x3.00 GHz & 3x2.50 GHz & 4x1.80 GHz), GPU: Adreno 730',\n",
       "       'Unisoc T616 8 nhân', 'Unisoc UMS9117', 'Unisoc UIS8910',\n",
       "       'Exynos 1280 8 nhân', 'Vi xử lý Unisoc T606 (2xA75 and 6xA55 1.6G',\n",
       "       'MediaTek Dimensity 1200 8 nhân', 'Snapdragon 865 8 nhân',\n",
       "       'Snapdragon 720G 8 nhân', 'MediaTek Helio G25 8 nhân'],\n",
       "      dtype=object)"
      ]
     },
     "execution_count": 12,
     "metadata": {},
     "output_type": "execute_result"
    }
   ],
   "source": [
    "data['Chip'].unique()"
   ]
  },
  {
   "cell_type": "code",
   "execution_count": 13,
   "metadata": {},
   "outputs": [
    {
     "data": {
      "text/plain": [
       "mediatek      249\n",
       "snapdragon    225\n",
       "apple         208\n",
       "exynos         24\n",
       "Name: Chip, dtype: int64"
      ]
     },
     "execution_count": 13,
     "metadata": {},
     "output_type": "execute_result"
    }
   ],
   "source": [
    "def filter_chip(string):\n",
    "    string = str(string)\n",
    "\n",
    "    # find all string with format 'Ax'\n",
    "    chip_apple_values = re.findall('A\\d+', string)\n",
    "\n",
    "    # convert the first matched value to 'Apple'\n",
    "    if len(chip_apple_values) > 0:\n",
    "        string = 'Apple'\n",
    "\n",
    "    # convert all to lower case\n",
    "    string = string.lower()\n",
    "\n",
    "    # get all types of chip\n",
    "    chip_types = ['snapdragon', 'apple', 'mediatek', 'exynos']\n",
    "\n",
    "    if string in chip_types:\n",
    "        return string\n",
    "\n",
    "    # convert string to one of the chip types\n",
    "    for chip_type in chip_types:\n",
    "        if chip_type in string:\n",
    "            return chip_type\n",
    "\n",
    "    return None\n",
    "\n",
    "data['Chip'] = data['Chip'].apply(filter_chip)\n",
    "\n",
    "data['Chip'].value_counts()"
   ]
  },
  {
   "cell_type": "markdown",
   "metadata": {},
   "source": [
    "### 🧹 ['RAM'] - ['ROM']"
   ]
  },
  {
   "cell_type": "code",
   "execution_count": 14,
   "metadata": {},
   "outputs": [
    {
     "data": {
      "text/plain": [
       "array(['8 GB', '8GB', '12GB', '12 GB', '6 GB', '4 GB', '3 GB', '2 GB',\n",
       "       '4GB', '48MB', '4 GB ~ 7GB ( Bao gồm cả RAM ảo)', '64 MB', '48 MB',\n",
       "       '16 MB', '6GB', 'Không', 'Đang cập nhật'], dtype=object)"
      ]
     },
     "execution_count": 14,
     "metadata": {},
     "output_type": "execute_result"
    }
   ],
   "source": [
    "data['RAM'].unique()"
   ]
  },
  {
   "cell_type": "code",
   "execution_count": 15,
   "metadata": {},
   "outputs": [
    {
     "data": {
      "text/plain": [
       "array(['128 GB', '128GB', '256GB', '512GB', '256 GB', '512 GB', '1 TB',\n",
       "       '32 GB', '64 GB', '64GB', '128MB', '128 MB', '24 MB', 'Không',\n",
       "       '4 GB', '16 GB'], dtype=object)"
      ]
     },
     "execution_count": 15,
     "metadata": {},
     "output_type": "execute_result"
    }
   ],
   "source": [
    "data['ROM'].unique()"
   ]
  },
  {
   "cell_type": "code",
   "execution_count": 16,
   "metadata": {},
   "outputs": [],
   "source": [
    "def filter_ram_rom(string):\n",
    "    string = str(string)\n",
    "    \n",
    "    # remove all spaces\n",
    "    string = string.replace(' ', '')\n",
    "\n",
    "    # find all string with format 'xGB' or 'xMB' or 'xTB\n",
    "    regex = re.compile('\\d+GB|\\d+MB|\\d+TB')\n",
    "    number = regex.findall(string)\n",
    "\n",
    "    # convert TB, GB to MB and convert to int\n",
    "    if len(number) > 0:\n",
    "        if 'TB' in number[0]:\n",
    "            return int(number[0].replace('TB', '')) * 1024 * 1024\n",
    "        elif 'GB' in number[0]:\n",
    "            return int(number[0].replace('GB', '')) * 1024\n",
    "        elif 'MB' in number[0]:\n",
    "            return int(number[0].replace('MB', ''))\n",
    "\n",
    "    return None\n",
    "\n",
    "data['RAM'] = data['RAM'].apply(filter_ram_rom)\n",
    "data['ROM'] = data['ROM'].apply(filter_ram_rom)"
   ]
  },
  {
   "cell_type": "code",
   "execution_count": 17,
   "metadata": {},
   "outputs": [
    {
     "data": {
      "text/plain": [
       "array([ 8192., 12288.,  6144.,  4096.,  3072.,  2048.,    48.,    64.,\n",
       "          16.,    nan])"
      ]
     },
     "execution_count": 17,
     "metadata": {},
     "output_type": "execute_result"
    }
   ],
   "source": [
    "data['RAM'].unique()"
   ]
  },
  {
   "cell_type": "code",
   "execution_count": 18,
   "metadata": {},
   "outputs": [
    {
     "data": {
      "text/plain": [
       "array([1.310720e+05, 2.621440e+05, 5.242880e+05, 1.048576e+06,\n",
       "       3.276800e+04, 6.553600e+04, 1.280000e+02, 2.400000e+01,\n",
       "                nan, 4.096000e+03, 1.638400e+04])"
      ]
     },
     "execution_count": 18,
     "metadata": {},
     "output_type": "execute_result"
    }
   ],
   "source": [
    "data['ROM'].unique()"
   ]
  },
  {
   "cell_type": "markdown",
   "metadata": {},
   "source": [
    "### 🧹 ['Battery']"
   ]
  },
  {
   "cell_type": "code",
   "execution_count": 19,
   "metadata": {},
   "outputs": [
    {
     "data": {
      "text/plain": [
       "array(['5020 mAh', '3300 mAh',\n",
       "       '3700 mAh, Hỗ trợ Sạc tối đa: 25W, Sạc kèm máy: Không có',\n",
       "       '3700 mAh',\n",
       "       '4500 mAh, Công suất hỗ trợ: 45W, Sạc kèm máy: Không có',\n",
       "       '5000 mAh', '4400 mAh', nan, '4230 mAh', '3110 mAh', '2815 mAh',\n",
       "       '2227 mAh', '2950 mAh', '4300 mAh, Sạc siêu nhanh VOOC2.0 65W',\n",
       "       '4000 mAh', '4500 mAh', '4310 mAh', '6000 mAh', '4050 mAh',\n",
       "       '5000mAh', '5000mAH', '4200 mAh', '4250 mAh', '4500 mAh - 65W',\n",
       "       '1000mAh', '5.000 mAh',\n",
       "       'Li-Po 4500mAh, Sạc nhanh 67W, 100% trong 39ph (quảng cáo), Sạc nhanh không dây 50W, 100% trong 53ph (quảng cáo), Sạc ngược không dây 10W, Power Delivery 3.0, Quick Charge 4+',\n",
       "       '1900 mAh', '5050 mAh', '1000 mAh', '2000 mAh',\n",
       "       '5000 mAh, 25 W, Sạc pin nhanh',\n",
       "       '5050 mAh4, Sạc Tương thích sạc nhanh 18W chuẩn USB PD 3.0 (bộ sạc đi kèm trong hộp máy 10W)',\n",
       "       '1150 mAh'], dtype=object)"
      ]
     },
     "execution_count": 19,
     "metadata": {},
     "output_type": "execute_result"
    }
   ],
   "source": [
    "data['Batery'].unique()"
   ]
  },
  {
   "cell_type": "code",
   "execution_count": 20,
   "metadata": {},
   "outputs": [
    {
     "data": {
      "text/plain": [
       "array([5020., 3300., 3700., 4500., 5000., 4400.,   nan, 4230., 3110.,\n",
       "       2815., 2227., 2950., 4300., 4000., 4310., 6000., 4050., 4200.,\n",
       "       4250., 1000., 1900., 5050., 2000., 1150.])"
      ]
     },
     "execution_count": 20,
     "metadata": {},
     "output_type": "execute_result"
    }
   ],
   "source": [
    "def filter_battery(string):\n",
    "    string = str(string)\n",
    "    \n",
    "    # remove all spaces\n",
    "    string = string.replace(' ', '')\n",
    "\n",
    "    # remove all commas\n",
    "    string = string.replace(',', '')\n",
    "\n",
    "    # remove all dots\n",
    "    string = string.replace('.', '')\n",
    "\n",
    "    # find all string with format 'xmAh'\n",
    "    regex = re.compile('\\d+mAh')\n",
    "    number = regex.findall(string)\n",
    "\n",
    "    # get the first number and convert to int\n",
    "    if len(number) > 0:\n",
    "        return int(number[0].replace('mAh', ''))\n",
    "    \n",
    "    return None\n",
    "\n",
    "data['Batery'] = data['Batery'].apply(filter_battery)\n",
    "\n",
    "data['Batery'].unique()"
   ]
  },
  {
   "cell_type": "markdown",
   "metadata": {},
   "source": [
    "### 🧹 ['OS']"
   ]
  },
  {
   "cell_type": "code",
   "execution_count": 21,
   "metadata": {},
   "outputs": [
    {
     "data": {
      "text/plain": [
       "array(['Android 11', 'Android 12', 'iOS 15', 'iOS 14',\n",
       "       'Android 11 (Go Edition)', nan, 'BOS - based on Android 11',\n",
       "       'Android 10 (Go edition), HIOS 6.2', 'ColorOS 12', 'IOS 15',\n",
       "       'Không có', 'Android 10'], dtype=object)"
      ]
     },
     "execution_count": 21,
     "metadata": {},
     "output_type": "execute_result"
    }
   ],
   "source": [
    "data['OS'].unique()"
   ]
  },
  {
   "cell_type": "code",
   "execution_count": 22,
   "metadata": {},
   "outputs": [
    {
     "data": {
      "text/plain": [
       "android    618\n",
       "ios        192\n",
       "Name: OS, dtype: int64"
      ]
     },
     "execution_count": 22,
     "metadata": {},
     "output_type": "execute_result"
    }
   ],
   "source": [
    "def filter_os(string):\n",
    "    string = str(string)\n",
    "\n",
    "    # covert all to lower case\n",
    "    string = string.lower()\n",
    "    \n",
    "    # get all types of os\n",
    "    os_types = ['android', 'ios']\n",
    "    \n",
    "    if string in os_types:\n",
    "        return string\n",
    "\n",
    "    for os_type in os_types:\n",
    "        if os_type in string:\n",
    "            return os_type\n",
    "\n",
    "    return None\n",
    "\n",
    "data['OS'] = data['OS'].apply(filter_os)\n",
    "\n",
    "data['OS'].value_counts()"
   ]
  },
  {
   "cell_type": "markdown",
   "metadata": {},
   "source": [
    "### 🧹 ['Screen resolution']"
   ]
  },
  {
   "cell_type": "code",
   "execution_count": 23,
   "metadata": {},
   "outputs": [
    {
     "data": {
      "text/plain": [
       "array(['Full HD+ (1080 x 2400 Pixels)', 'Full HD+ (1080 x 2640 Pixels)',\n",
       "       '2340 x 1080', '3088 x 1440', 'Full HD+ (1768 x 2208 Pixels)',\n",
       "       '1170 x 2532 Pixels', 'HD+ (720 x 1600 Pixels)',\n",
       "       '1284 x 2778 Pixels', '828 x 1792 Pixels',\n",
       "       'HD+ (700 x 1600 Pixels)', 'Full HD+ (1080 x 2340 Pixels)',\n",
       "       '2K+ (1440 x 3200 Pixels)', 'Full HD+ (1080 x 2408 Pixel)',\n",
       "       'Đang cập nhật', 'FHD', 'Full HD+ (1080 x 2408 Pixels)', nan,\n",
       "       '6,44\" FHD+', 'Full HD+ (1080 x 2412 Pixels)',\n",
       "       '2400 x 1080 FHD+, 90Hz AMOLED', 'HD+ (720 x 1612 Pixels)',\n",
       "       '2400X1080', 'HD (750 x 1334 Pixels)', '128*160',\n",
       "       '720 x 1612 pixel', '1080 x 2400 pixels',\n",
       "       'QVGA (240 x 320 Pixels)', '128 x 160 Pixels', '176 x 220 Pixels',\n",
       "       'HD+', 'HD (720 x 1280 Pixels)'], dtype=object)"
      ]
     },
     "execution_count": 23,
     "metadata": {},
     "output_type": "execute_result"
    }
   ],
   "source": [
    "data['Screen resolution'].unique()"
   ]
  },
  {
   "cell_type": "code",
   "execution_count": 24,
   "metadata": {},
   "outputs": [
    {
     "data": {
      "text/plain": [
       "array([2592000., 2851200., 2527200., 4446720., 3903744., 2962440.,\n",
       "       1152000., 3566952., 1483776., 1120000., 4608000., 2600640.,\n",
       "            nan, 2604960., 1160640., 1000500.,   76800.,   20480.,\n",
       "         38720.,  921600.])"
      ]
     },
     "execution_count": 24,
     "metadata": {},
     "output_type": "execute_result"
    }
   ],
   "source": [
    "def filter_screen_resolution(string):\n",
    "    string = str(string)\n",
    "\n",
    "    # remove all spaces\n",
    "    string = string.replace(' ', '')\n",
    "\n",
    "    # find all string with format 'axb'\n",
    "    regex = re.compile('\\d+x\\d+')\n",
    "    number = regex.findall(string)\n",
    "\n",
    "    # multiply the first number by the second number and convert to int\n",
    "    if len(number) > 0:\n",
    "        return int(number[0].split('x')[0]) * int(number[0].split('x')[1])\n",
    "\n",
    "    return None\n",
    "\n",
    "data['Screen resolution'] = data['Screen resolution'].apply(filter_screen_resolution)\n",
    "\n",
    "data['Screen resolution'].unique()"
   ]
  },
  {
   "cell_type": "markdown",
   "metadata": {},
   "source": [
    "### 🧹 ['Camera']"
   ]
  },
  {
   "cell_type": "code",
   "execution_count": 25,
   "metadata": {},
   "outputs": [
    {
     "data": {
      "text/plain": [
       "array(['Chính 108 MP & Phụ 8 MP, 5 MP, 2 MP, 16 MP',\n",
       "       '2 camera 12 MP, 10 MP',\n",
       "       '12MP (UW) + 50MP (W) + 10MP (Tele), 10MP',\n",
       "       '12MP (UW) + 108MP (W) + 12MP (Tele3x) + 12MP (Tele10x), 40MP',\n",
       "       '3 camera 12 MP, 10 MP & 4 MP',\n",
       "       'Chính 64 MP & Phụ 8 MP, 5MP, 5MP, 20 MP', '2 camera 12 MP, 12 MP',\n",
       "       '3 camera 12 MP, 12 MP', '13 MP, 13 MP',\n",
       "       'Chính 50  MP & Phụ 8 MP, 2 MP, 2 MP, 13 MP',\n",
       "       'Chính 108 MP & Phụ 8 MP, 2 MP, 2 MP, 16 MP',\n",
       "       'Chính 108 MP & Phụ 8 MP, 2 MP, 16 MP',\n",
       "       'Chính 50 MP & Phụ 2 MP, 2 MP, 16 MP',\n",
       "       'Chính 48 MP & Phụ 2 MP, 2 MP, 16 MP', '5 MP, 5 MP',\n",
       "       'Chính 108 MP & Phụ 12 MP, 10 MP, 10 MP, 40 MP',\n",
       "       'Chính 64 MP & Phụ 8 MP, 2 MP, 2 MP, 13 MP',\n",
       "       'Chính 64 MP & Phụ 8 MP, 2 MP, 2 MP, 32 MP',\n",
       "       'Chính 13 MP & Phụ 2 MP, 8 MP',\n",
       "       'Chính 64 MP & Phụ 8 MP, 2 MP, 2 MP, 16 MP',\n",
       "       'Chính 64 MP & Phụ 8 MP, 2 MP, 16 MP',\n",
       "       'Chính 64 MP & Phụ 8 MP, 2 MP, 44 MP', 'Đang cập nhật, 32 MP',\n",
       "       'Chính 13 MP & Phụ 2 MP, 2 MP, 5 MP',\n",
       "       'Chính 64 MP & Phụ 8 MP, 2 MP, 32 MP',\n",
       "       'Chính 50  MP & Phụ 8 MP, 2 MP, 2 MP, 8 MP',\n",
       "       'Chính 13 MP & Phụ 2 MP, 5 MP',\n",
       "       'Chính 64 MP & Phụ 12 MP, 5 MP, 5 MP, 32 MP',\n",
       "       'Chính 108 MP & Phụ 8 MP, 5 MP, 16 MP',\n",
       "       'Chính 50 MP & Phụ 2 MP, 2 MP, 8 MP',\n",
       "       'Chính 64 MP & Phụ 8 MP, 2 MP, 50 MP',\n",
       "       'Chính 48 MP & Phụ 2 MP, 5 MP', 'Chính 50 MP & Phụ 8 MP, 16 MP',\n",
       "       '4 Camera 16 MP  + 2MP +5M +2MP, 8MP chụp góc rộng, tự làm đẹp...',\n",
       "       'Camera 13 MP, f/1.8, AF',\n",
       "       'Chính 64 MP & Phụ 8 MP, 2 MP, Chính 50 MP & Phụ 8 MP',\n",
       "       'Chính 64 MP & Phụ 8 MP, 5 MP, 20 MP', '64MP + 8MP + 2MP, 32MP',\n",
       "       '50 + 8 + 2, 16MP', '12 MP, 7 MP', nan, '13 MB, 8MP',\n",
       "       '50 MP, f/1.9, 26mm (góc rộng), PDAF, OIS, 13 MP, f/2.4, 12mm, 123˚ (góc siêu rộng), 5 MP, 50mm (telephoto macro), AF, Quay phim: 8K@24fps (HDR10), 4K@30fps (HDR10+), 1080p@30/120/240/960fps, 720p@1920fps, gyro-EIS, 32 MP, 26mm (góc rộng), Quay phim: 1080p@30/60fps, 720p@120fps',\n",
       "       '0.3 MP', 'Chính 50 MP & Phụ 2 MP, 0.3 MP, 8 MP',\n",
       "       'Đang cập nhật, Chính 13 MP & Phụ 2 MP', 'Không có, Không có',\n",
       "       'Không có', 'Chính 48 MP & Phụ 8 MP, 5 MP, 2 MP, 13 MP',\n",
       "       '50MP AF + 2MP Macro + 2MP FF Cảm biến độ sâu trường ảnh, AI Super Resolution Zoom | Flash Led, 8MP',\n",
       "       'Chính 12 MP & Phụ 12 MP, 8 MP, 32 MP', 'Không, Không',\n",
       "       '8 MP, 5 MP', '13 MP, 5 MP',\n",
       "       'QVGA (320 x 240 pixels), VGA (0.3 MP)'], dtype=object)"
      ]
     },
     "execution_count": 25,
     "metadata": {},
     "output_type": "execute_result"
    }
   ],
   "source": [
    "data['Camera'].unique()"
   ]
  },
  {
   "cell_type": "code",
   "execution_count": 26,
   "metadata": {},
   "outputs": [
    {
     "data": {
      "text/plain": [
       "array([5, 2, 4, 3, 1, 0], dtype=int64)"
      ]
     },
     "execution_count": 26,
     "metadata": {},
     "output_type": "execute_result"
    }
   ],
   "source": [
    "def filter_camera_count(string):\n",
    "    string = str(string)\n",
    "\n",
    "    # count the number of 'MP' in the string\n",
    "    return string.count('MP')\n",
    "\n",
    "data['Camera count'] = data['Camera'].apply(filter_camera_count)\n",
    "\n",
    "data['Camera count'].unique()"
   ]
  },
  {
   "cell_type": "code",
   "execution_count": 27,
   "metadata": {},
   "outputs": [
    {
     "data": {
      "text/plain": [
       "array([108.,  12.,  50.,  64.,  13.,  48.,   5.,  32.,  16.,  nan,   8.,\n",
       "         3.])"
      ]
     },
     "execution_count": 27,
     "metadata": {},
     "output_type": "execute_result"
    }
   ],
   "source": [
    "def filter_camera_max_mp(string):\n",
    "    string = str(string)\n",
    "\n",
    "    # remove all spaces\n",
    "    string = string.replace(' ', '')\n",
    "\n",
    "    # find all string with format 'xMP'\n",
    "    regex = re.compile('\\d+MP')\n",
    "    matched_values = regex.findall(string)\n",
    "\n",
    "    # remove 'MP' from matched values, convert to int and return the max number\n",
    "    if len(matched_values) > 0:\n",
    "        return max(map(lambda x: int(x.replace('MP', '')), matched_values))\n",
    "\n",
    "    return None\n",
    "\n",
    "data['Camera max MP'] = data['Camera'].apply(filter_camera_max_mp)\n",
    "\n",
    "data['Camera max MP'].unique()"
   ]
  },
  {
   "cell_type": "code",
   "execution_count": 28,
   "metadata": {},
   "outputs": [],
   "source": [
    "# drop the column 'Camera'\n",
    "data.drop(columns=['Camera'], inplace=True)"
   ]
  },
  {
   "cell_type": "markdown",
   "metadata": {},
   "source": [
    "### 🧹 ['Mobile network']"
   ]
  },
  {
   "cell_type": "code",
   "execution_count": 29,
   "metadata": {},
   "outputs": [
    {
     "data": {
      "text/plain": [
       "array(['Hỗ trợ 4G', 'Hỗ trợ 5G', '5G', '4GB', '4G',\n",
       "       '\"GSM: 900/1800MHz  WCMA: 900/2100MHz, 4G-LTE: B1/3/7/ 8/20\"',\n",
       "       '1, 2, 3, 4, 5, 7, 8, 12, 17, 18, 19, 26, 34, 38, 39, 40, 41, 42',\n",
       "       'Hỗ trợ 4G VoLTE',\n",
       "       'Tốc độ mạng, GSM: 850, 900, 1800, 1900, WCDMA: 1, 5, 8, LTE FDD: 1, 3, 5, 7, 8, 20, 28, 38, 40, 41 (full), LTE CAT4'],\n",
       "      dtype=object)"
      ]
     },
     "execution_count": 29,
     "metadata": {},
     "output_type": "execute_result"
    }
   ],
   "source": [
    "data['Mobile network'].unique()"
   ]
  },
  {
   "cell_type": "code",
   "execution_count": 30,
   "metadata": {},
   "outputs": [
    {
     "data": {
      "text/plain": [
       "4.0    466\n",
       "5.0    416\n",
       "Name: Mobile network, dtype: int64"
      ]
     },
     "execution_count": 30,
     "metadata": {},
     "output_type": "execute_result"
    }
   ],
   "source": [
    "def filter_mobile_network(string):\n",
    "    string = str(string)\n",
    "\n",
    "    # find all string with format 'xG'\n",
    "    regex = re.compile('\\d+G')\n",
    "    matched_values = regex.findall(string)\n",
    "\n",
    "    # return the first matched value and remove 'G'\n",
    "    if len(matched_values) > 0:\n",
    "        return int(matched_values[0].replace('G', ''))\n",
    "\n",
    "    return None\n",
    "\n",
    "data['Mobile network'] = data['Mobile network'].apply(filter_mobile_network)\n",
    "\n",
    "data['Mobile network'].value_counts()"
   ]
  },
  {
   "cell_type": "markdown",
   "metadata": {},
   "source": [
    "### 🧹 ['Price']"
   ]
  },
  {
   "cell_type": "code",
   "execution_count": 31,
   "metadata": {},
   "outputs": [
    {
     "data": {
      "text/plain": [
       "array(['5,990,000 ₫', '20,990,000 ₫', '16,990,000 ₫', '18,490,000 ₫',\n",
       "       '22,490,000 ₫', '25,990,000 ₫', '28,990,000 ₫', '31,990,000 ₫',\n",
       "       '18,690,000 ₫', '32,890,000 ₫', '35,790,000 ₫', '20,590,000 ₫',\n",
       "       '5,550,000 ₫', '20,490,000 ₫', '23,690,000 ₫', '25,980,000 ₫',\n",
       "       '26,750,000 ₫', '29,790,000 ₫', '33,890,000 ₫', '39,490,000 ₫',\n",
       "       '3,150,000 ₫', '4,490,000 ₫', '5,790,000 ₫', '7,790,000 ₫',\n",
       "       '6,750,000 ₫', '28,950,000 ₫', '31,750,000 ₫', '36,990,000 ₫',\n",
       "       '42,890,000 ₫', '11,390,000 ₫', '13,090,000 ₫', '17,590,000 ₫',\n",
       "       '22,390,000 ₫', '15,890,000 ₫', '4,150,000 ₫', '14,990,000 ₫',\n",
       "       '15,990,000 ₫', '19,950,000 ₫', '1,980,000 ₫', '19,590,000 ₫',\n",
       "       '5,090,000 ₫', '18,640,000 ₫', '8,990,000 ₫', '2,790,000 ₫',\n",
       "       '5,890,000 ₫', '5,290,000 ₫', '7,990,000 ₫', '18,750,000 ₫',\n",
       "       '6,590,000 ₫', '3,590,000 ₫', '3,890,000 ₫', '2,680,000 ₫',\n",
       "       '7,690,000 ₫', '21,490,000 ₫', '13,390,000 ₫', '3,750,000 ₫',\n",
       "       '3,490,000 ₫', '4,650,000 ₫', '2,950,000 ₫', '6,990,000 ₫',\n",
       "       '2,650,000 ₫', '5,190,000 ₫', '3,950,000 ₫', '2,280,000 ₫',\n",
       "       '3,790,000 ₫', '2,490,000 ₫', '10,990,000 ₫', '5,350,000 ₫',\n",
       "       '7,490,000 ₫', '8,890,000 ₫', '12,490,000 ₫', '14,490,000 ₫',\n",
       "       '450,000 ₫', '2,690,000 ₫', '15,590,000 ₫', '650,000 ₫',\n",
       "       '2,890,000 ₫', '470,000 ₫', '690,000 ₫', '3,990,000 ₫',\n",
       "       '6,850,000 ₫', '8,190,000 ₫', '3,580,000 ₫', '9,890,000 ₫',\n",
       "       '8,590,000 ₫', '11,990,000 ₫', '26,790,000 ₫', '850,000 ₫',\n",
       "       '2,450,000 ₫', '2,090,000 ₫', '2,640,000 ₫', '3,090,000 ₫',\n",
       "       '890,000 ₫', '790,000 ₫'], dtype=object)"
      ]
     },
     "execution_count": 31,
     "metadata": {},
     "output_type": "execute_result"
    }
   ],
   "source": [
    "data['Price'].unique()"
   ]
  },
  {
   "cell_type": "code",
   "execution_count": 32,
   "metadata": {},
   "outputs": [
    {
     "data": {
      "text/plain": [
       "array([ 5990, 20990, 16990, 18490, 22490, 25990, 28990, 31990, 18690,\n",
       "       32890, 35790, 20590,  5550, 20490, 23690, 25980, 26750, 29790,\n",
       "       33890, 39490,  3150,  4490,  5790,  7790,  6750, 28950, 31750,\n",
       "       36990, 42890, 11390, 13090, 17590, 22390, 15890,  4150, 14990,\n",
       "       15990, 19950,  1980, 19590,  5090, 18640,  8990,  2790,  5890,\n",
       "        5290,  7990, 18750,  6590,  3590,  3890,  2680,  7690, 21490,\n",
       "       13390,  3750,  3490,  4650,  2950,  6990,  2650,  5190,  3950,\n",
       "        2280,  3790,  2490, 10990,  5350,  7490,  8890, 12490, 14490,\n",
       "         450,  2690, 15590,   650,  2890,   470,   690,  3990,  6850,\n",
       "        8190,  3580,  9890,  8590, 11990, 26790,   850,  2450,  2090,\n",
       "        2640,  3090,   890,   790], dtype=int64)"
      ]
     },
     "execution_count": 32,
     "metadata": {},
     "output_type": "execute_result"
    }
   ],
   "source": [
    "def filter_price(string):\n",
    "    string = str(string)\n",
    "    string = string.strip()\n",
    "\n",
    "    string = string.replace('.', '')\n",
    "    string = string.replace(',', '')\n",
    "    string = string.replace('000\\xa0₫', '')\n",
    "    string = string.replace('000₫', '')\n",
    "    string = string.replace('000 ₫', '')\n",
    "    string = string.replace('000 *', '')\n",
    "    string = string.replace(' *', '')\n",
    "\n",
    "    return int(string)\n",
    "\n",
    "data['Price'] = data['Price'].apply(filter_price)\n",
    "\n",
    "data['Price'].unique()"
   ]
  },
  {
   "cell_type": "markdown",
   "metadata": {},
   "source": [
    "### 🔖 Data after converting to the correct data type"
   ]
  },
  {
   "cell_type": "code",
   "execution_count": 33,
   "metadata": {},
   "outputs": [
    {
     "data": {
      "text/html": [
       "<div>\n",
       "<style scoped>\n",
       "    .dataframe tbody tr th:only-of-type {\n",
       "        vertical-align: middle;\n",
       "    }\n",
       "\n",
       "    .dataframe tbody tr th {\n",
       "        vertical-align: top;\n",
       "    }\n",
       "\n",
       "    .dataframe thead th {\n",
       "        text-align: right;\n",
       "    }\n",
       "</style>\n",
       "<table border=\"1\" class=\"dataframe\">\n",
       "  <thead>\n",
       "    <tr style=\"text-align: right;\">\n",
       "      <th></th>\n",
       "      <th>Screen size</th>\n",
       "      <th>Screen type</th>\n",
       "      <th>Chip</th>\n",
       "      <th>RAM</th>\n",
       "      <th>ROM</th>\n",
       "      <th>Batery</th>\n",
       "      <th>OS</th>\n",
       "      <th>Screen resolution</th>\n",
       "      <th>Price</th>\n",
       "      <th>Mobile network</th>\n",
       "      <th>Camera count</th>\n",
       "      <th>Camera max MP</th>\n",
       "    </tr>\n",
       "  </thead>\n",
       "  <tbody>\n",
       "    <tr>\n",
       "      <th>268</th>\n",
       "      <td>6.67</td>\n",
       "      <td>OLED</td>\n",
       "      <td>snapdragon</td>\n",
       "      <td>8192.0</td>\n",
       "      <td>131072.0</td>\n",
       "      <td>5020.0</td>\n",
       "      <td>android</td>\n",
       "      <td>2592000.0</td>\n",
       "      <td>5990</td>\n",
       "      <td>4.0</td>\n",
       "      <td>5</td>\n",
       "      <td>108.0</td>\n",
       "    </tr>\n",
       "    <tr>\n",
       "      <th>269</th>\n",
       "      <td>NaN</td>\n",
       "      <td>OLED</td>\n",
       "      <td>snapdragon</td>\n",
       "      <td>8192.0</td>\n",
       "      <td>131072.0</td>\n",
       "      <td>3300.0</td>\n",
       "      <td>android</td>\n",
       "      <td>2851200.0</td>\n",
       "      <td>20990</td>\n",
       "      <td>5.0</td>\n",
       "      <td>2</td>\n",
       "      <td>12.0</td>\n",
       "    </tr>\n",
       "    <tr>\n",
       "      <th>270</th>\n",
       "      <td>6.10</td>\n",
       "      <td>OLED</td>\n",
       "      <td>snapdragon</td>\n",
       "      <td>8192.0</td>\n",
       "      <td>131072.0</td>\n",
       "      <td>3700.0</td>\n",
       "      <td>android</td>\n",
       "      <td>2527200.0</td>\n",
       "      <td>16990</td>\n",
       "      <td>5.0</td>\n",
       "      <td>4</td>\n",
       "      <td>50.0</td>\n",
       "    </tr>\n",
       "    <tr>\n",
       "      <th>271</th>\n",
       "      <td>6.10</td>\n",
       "      <td>OLED</td>\n",
       "      <td>snapdragon</td>\n",
       "      <td>8192.0</td>\n",
       "      <td>262144.0</td>\n",
       "      <td>3700.0</td>\n",
       "      <td>android</td>\n",
       "      <td>2527200.0</td>\n",
       "      <td>18490</td>\n",
       "      <td>5.0</td>\n",
       "      <td>4</td>\n",
       "      <td>50.0</td>\n",
       "    </tr>\n",
       "    <tr>\n",
       "      <th>272</th>\n",
       "      <td>6.60</td>\n",
       "      <td>OLED</td>\n",
       "      <td>snapdragon</td>\n",
       "      <td>8192.0</td>\n",
       "      <td>262144.0</td>\n",
       "      <td>4500.0</td>\n",
       "      <td>android</td>\n",
       "      <td>2527200.0</td>\n",
       "      <td>20990</td>\n",
       "      <td>5.0</td>\n",
       "      <td>4</td>\n",
       "      <td>50.0</td>\n",
       "    </tr>\n",
       "    <tr>\n",
       "      <th>...</th>\n",
       "      <td>...</td>\n",
       "      <td>...</td>\n",
       "      <td>...</td>\n",
       "      <td>...</td>\n",
       "      <td>...</td>\n",
       "      <td>...</td>\n",
       "      <td>...</td>\n",
       "      <td>...</td>\n",
       "      <td>...</td>\n",
       "      <td>...</td>\n",
       "      <td>...</td>\n",
       "      <td>...</td>\n",
       "    </tr>\n",
       "    <tr>\n",
       "      <th>1516</th>\n",
       "      <td>6.53</td>\n",
       "      <td>LCD</td>\n",
       "      <td>mediatek</td>\n",
       "      <td>2048.0</td>\n",
       "      <td>32768.0</td>\n",
       "      <td>5000.0</td>\n",
       "      <td>android</td>\n",
       "      <td>1120000.0</td>\n",
       "      <td>2090</td>\n",
       "      <td>4.0</td>\n",
       "      <td>2</td>\n",
       "      <td>13.0</td>\n",
       "    </tr>\n",
       "    <tr>\n",
       "      <th>1517</th>\n",
       "      <td>6.53</td>\n",
       "      <td>LCD</td>\n",
       "      <td>mediatek</td>\n",
       "      <td>3072.0</td>\n",
       "      <td>65536.0</td>\n",
       "      <td>5000.0</td>\n",
       "      <td>android</td>\n",
       "      <td>1152000.0</td>\n",
       "      <td>2640</td>\n",
       "      <td>4.0</td>\n",
       "      <td>4</td>\n",
       "      <td>13.0</td>\n",
       "    </tr>\n",
       "    <tr>\n",
       "      <th>1518</th>\n",
       "      <td>6.53</td>\n",
       "      <td>LCD</td>\n",
       "      <td>mediatek</td>\n",
       "      <td>4096.0</td>\n",
       "      <td>131072.0</td>\n",
       "      <td>5000.0</td>\n",
       "      <td>android</td>\n",
       "      <td>1152000.0</td>\n",
       "      <td>2890</td>\n",
       "      <td>4.0</td>\n",
       "      <td>4</td>\n",
       "      <td>13.0</td>\n",
       "    </tr>\n",
       "    <tr>\n",
       "      <th>1523</th>\n",
       "      <td>2.40</td>\n",
       "      <td>LCD</td>\n",
       "      <td>None</td>\n",
       "      <td>NaN</td>\n",
       "      <td>4096.0</td>\n",
       "      <td>1900.0</td>\n",
       "      <td>None</td>\n",
       "      <td>76800.0</td>\n",
       "      <td>890</td>\n",
       "      <td>4.0</td>\n",
       "      <td>1</td>\n",
       "      <td>3.0</td>\n",
       "    </tr>\n",
       "    <tr>\n",
       "      <th>1524</th>\n",
       "      <td>NaN</td>\n",
       "      <td>LCD</td>\n",
       "      <td>None</td>\n",
       "      <td>2048.0</td>\n",
       "      <td>16384.0</td>\n",
       "      <td>2000.0</td>\n",
       "      <td>None</td>\n",
       "      <td>921600.0</td>\n",
       "      <td>790</td>\n",
       "      <td>4.0</td>\n",
       "      <td>2</td>\n",
       "      <td>5.0</td>\n",
       "    </tr>\n",
       "  </tbody>\n",
       "</table>\n",
       "<p>898 rows × 12 columns</p>\n",
       "</div>"
      ],
      "text/plain": [
       "      Screen size Screen type        Chip     RAM       ROM  Batery       OS  \\\n",
       "268          6.67        OLED  snapdragon  8192.0  131072.0  5020.0  android   \n",
       "269           NaN        OLED  snapdragon  8192.0  131072.0  3300.0  android   \n",
       "270          6.10        OLED  snapdragon  8192.0  131072.0  3700.0  android   \n",
       "271          6.10        OLED  snapdragon  8192.0  262144.0  3700.0  android   \n",
       "272          6.60        OLED  snapdragon  8192.0  262144.0  4500.0  android   \n",
       "...           ...         ...         ...     ...       ...     ...      ...   \n",
       "1516         6.53         LCD    mediatek  2048.0   32768.0  5000.0  android   \n",
       "1517         6.53         LCD    mediatek  3072.0   65536.0  5000.0  android   \n",
       "1518         6.53         LCD    mediatek  4096.0  131072.0  5000.0  android   \n",
       "1523         2.40         LCD        None     NaN    4096.0  1900.0     None   \n",
       "1524          NaN         LCD        None  2048.0   16384.0  2000.0     None   \n",
       "\n",
       "      Screen resolution  Price  Mobile network  Camera count  Camera max MP  \n",
       "268           2592000.0   5990             4.0             5          108.0  \n",
       "269           2851200.0  20990             5.0             2           12.0  \n",
       "270           2527200.0  16990             5.0             4           50.0  \n",
       "271           2527200.0  18490             5.0             4           50.0  \n",
       "272           2527200.0  20990             5.0             4           50.0  \n",
       "...                 ...    ...             ...           ...            ...  \n",
       "1516          1120000.0   2090             4.0             2           13.0  \n",
       "1517          1152000.0   2640             4.0             4           13.0  \n",
       "1518          1152000.0   2890             4.0             4           13.0  \n",
       "1523            76800.0    890             4.0             1            3.0  \n",
       "1524           921600.0    790             4.0             2            5.0  \n",
       "\n",
       "[898 rows x 12 columns]"
      ]
     },
     "execution_count": 33,
     "metadata": {},
     "output_type": "execute_result"
    }
   ],
   "source": [
    "data"
   ]
  },
  {
   "cell_type": "markdown",
   "metadata": {},
   "source": [
    "### 🚫 Fill missing values"
   ]
  },
  {
   "cell_type": "code",
   "execution_count": 34,
   "metadata": {},
   "outputs": [
    {
     "data": {
      "text/plain": [
       "Screen size          505\n",
       "Screen type           72\n",
       "Chip                 192\n",
       "RAM                   16\n",
       "ROM                    8\n",
       "Batery               136\n",
       "OS                    88\n",
       "Screen resolution     72\n",
       "Price                  0\n",
       "Mobile network        16\n",
       "Camera count           0\n",
       "Camera max MP         32\n",
       "dtype: int64"
      ]
     },
     "execution_count": 34,
     "metadata": {},
     "output_type": "execute_result"
    }
   ],
   "source": [
    "data.isnull().sum()"
   ]
  },
  {
   "cell_type": "markdown",
   "metadata": {},
   "source": [
    "##### Mean inputation"
   ]
  },
  {
   "cell_type": "code",
   "execution_count": 35,
   "metadata": {},
   "outputs": [
    {
     "data": {
      "text/html": [
       "<div>\n",
       "<style scoped>\n",
       "    .dataframe tbody tr th:only-of-type {\n",
       "        vertical-align: middle;\n",
       "    }\n",
       "\n",
       "    .dataframe tbody tr th {\n",
       "        vertical-align: top;\n",
       "    }\n",
       "\n",
       "    .dataframe thead th {\n",
       "        text-align: right;\n",
       "    }\n",
       "</style>\n",
       "<table border=\"1\" class=\"dataframe\">\n",
       "  <thead>\n",
       "    <tr style=\"text-align: right;\">\n",
       "      <th></th>\n",
       "      <th>Screen size</th>\n",
       "      <th>Screen type</th>\n",
       "      <th>Chip</th>\n",
       "      <th>RAM</th>\n",
       "      <th>ROM</th>\n",
       "      <th>Batery</th>\n",
       "      <th>OS</th>\n",
       "      <th>Screen resolution</th>\n",
       "      <th>Price</th>\n",
       "      <th>Mobile network</th>\n",
       "      <th>Camera count</th>\n",
       "      <th>Camera max MP</th>\n",
       "    </tr>\n",
       "  </thead>\n",
       "  <tbody>\n",
       "    <tr>\n",
       "      <th>268</th>\n",
       "      <td>6.670000</td>\n",
       "      <td>OLED</td>\n",
       "      <td>snapdragon</td>\n",
       "      <td>8192.000000</td>\n",
       "      <td>131072.0</td>\n",
       "      <td>5020.0</td>\n",
       "      <td>android</td>\n",
       "      <td>2592000.0</td>\n",
       "      <td>5990</td>\n",
       "      <td>4.0</td>\n",
       "      <td>5</td>\n",
       "      <td>108.0</td>\n",
       "    </tr>\n",
       "    <tr>\n",
       "      <th>269</th>\n",
       "      <td>6.001272</td>\n",
       "      <td>OLED</td>\n",
       "      <td>snapdragon</td>\n",
       "      <td>8192.000000</td>\n",
       "      <td>131072.0</td>\n",
       "      <td>3300.0</td>\n",
       "      <td>android</td>\n",
       "      <td>2851200.0</td>\n",
       "      <td>20990</td>\n",
       "      <td>5.0</td>\n",
       "      <td>2</td>\n",
       "      <td>12.0</td>\n",
       "    </tr>\n",
       "    <tr>\n",
       "      <th>270</th>\n",
       "      <td>6.100000</td>\n",
       "      <td>OLED</td>\n",
       "      <td>snapdragon</td>\n",
       "      <td>8192.000000</td>\n",
       "      <td>131072.0</td>\n",
       "      <td>3700.0</td>\n",
       "      <td>android</td>\n",
       "      <td>2527200.0</td>\n",
       "      <td>16990</td>\n",
       "      <td>5.0</td>\n",
       "      <td>4</td>\n",
       "      <td>50.0</td>\n",
       "    </tr>\n",
       "    <tr>\n",
       "      <th>271</th>\n",
       "      <td>6.100000</td>\n",
       "      <td>OLED</td>\n",
       "      <td>snapdragon</td>\n",
       "      <td>8192.000000</td>\n",
       "      <td>262144.0</td>\n",
       "      <td>3700.0</td>\n",
       "      <td>android</td>\n",
       "      <td>2527200.0</td>\n",
       "      <td>18490</td>\n",
       "      <td>5.0</td>\n",
       "      <td>4</td>\n",
       "      <td>50.0</td>\n",
       "    </tr>\n",
       "    <tr>\n",
       "      <th>272</th>\n",
       "      <td>6.600000</td>\n",
       "      <td>OLED</td>\n",
       "      <td>snapdragon</td>\n",
       "      <td>8192.000000</td>\n",
       "      <td>262144.0</td>\n",
       "      <td>4500.0</td>\n",
       "      <td>android</td>\n",
       "      <td>2527200.0</td>\n",
       "      <td>20990</td>\n",
       "      <td>5.0</td>\n",
       "      <td>4</td>\n",
       "      <td>50.0</td>\n",
       "    </tr>\n",
       "    <tr>\n",
       "      <th>...</th>\n",
       "      <td>...</td>\n",
       "      <td>...</td>\n",
       "      <td>...</td>\n",
       "      <td>...</td>\n",
       "      <td>...</td>\n",
       "      <td>...</td>\n",
       "      <td>...</td>\n",
       "      <td>...</td>\n",
       "      <td>...</td>\n",
       "      <td>...</td>\n",
       "      <td>...</td>\n",
       "      <td>...</td>\n",
       "    </tr>\n",
       "    <tr>\n",
       "      <th>1516</th>\n",
       "      <td>6.530000</td>\n",
       "      <td>LCD</td>\n",
       "      <td>mediatek</td>\n",
       "      <td>2048.000000</td>\n",
       "      <td>32768.0</td>\n",
       "      <td>5000.0</td>\n",
       "      <td>android</td>\n",
       "      <td>1120000.0</td>\n",
       "      <td>2090</td>\n",
       "      <td>4.0</td>\n",
       "      <td>2</td>\n",
       "      <td>13.0</td>\n",
       "    </tr>\n",
       "    <tr>\n",
       "      <th>1517</th>\n",
       "      <td>6.530000</td>\n",
       "      <td>LCD</td>\n",
       "      <td>mediatek</td>\n",
       "      <td>3072.000000</td>\n",
       "      <td>65536.0</td>\n",
       "      <td>5000.0</td>\n",
       "      <td>android</td>\n",
       "      <td>1152000.0</td>\n",
       "      <td>2640</td>\n",
       "      <td>4.0</td>\n",
       "      <td>4</td>\n",
       "      <td>13.0</td>\n",
       "    </tr>\n",
       "    <tr>\n",
       "      <th>1518</th>\n",
       "      <td>6.530000</td>\n",
       "      <td>LCD</td>\n",
       "      <td>mediatek</td>\n",
       "      <td>4096.000000</td>\n",
       "      <td>131072.0</td>\n",
       "      <td>5000.0</td>\n",
       "      <td>android</td>\n",
       "      <td>1152000.0</td>\n",
       "      <td>2890</td>\n",
       "      <td>4.0</td>\n",
       "      <td>4</td>\n",
       "      <td>13.0</td>\n",
       "    </tr>\n",
       "    <tr>\n",
       "      <th>1523</th>\n",
       "      <td>2.400000</td>\n",
       "      <td>LCD</td>\n",
       "      <td>None</td>\n",
       "      <td>5681.197279</td>\n",
       "      <td>4096.0</td>\n",
       "      <td>1900.0</td>\n",
       "      <td>None</td>\n",
       "      <td>76800.0</td>\n",
       "      <td>890</td>\n",
       "      <td>4.0</td>\n",
       "      <td>1</td>\n",
       "      <td>3.0</td>\n",
       "    </tr>\n",
       "    <tr>\n",
       "      <th>1524</th>\n",
       "      <td>6.001272</td>\n",
       "      <td>LCD</td>\n",
       "      <td>None</td>\n",
       "      <td>2048.000000</td>\n",
       "      <td>16384.0</td>\n",
       "      <td>2000.0</td>\n",
       "      <td>None</td>\n",
       "      <td>921600.0</td>\n",
       "      <td>790</td>\n",
       "      <td>4.0</td>\n",
       "      <td>2</td>\n",
       "      <td>5.0</td>\n",
       "    </tr>\n",
       "  </tbody>\n",
       "</table>\n",
       "<p>898 rows × 12 columns</p>\n",
       "</div>"
      ],
      "text/plain": [
       "      Screen size Screen type        Chip          RAM       ROM  Batery  \\\n",
       "268      6.670000        OLED  snapdragon  8192.000000  131072.0  5020.0   \n",
       "269      6.001272        OLED  snapdragon  8192.000000  131072.0  3300.0   \n",
       "270      6.100000        OLED  snapdragon  8192.000000  131072.0  3700.0   \n",
       "271      6.100000        OLED  snapdragon  8192.000000  262144.0  3700.0   \n",
       "272      6.600000        OLED  snapdragon  8192.000000  262144.0  4500.0   \n",
       "...           ...         ...         ...          ...       ...     ...   \n",
       "1516     6.530000         LCD    mediatek  2048.000000   32768.0  5000.0   \n",
       "1517     6.530000         LCD    mediatek  3072.000000   65536.0  5000.0   \n",
       "1518     6.530000         LCD    mediatek  4096.000000  131072.0  5000.0   \n",
       "1523     2.400000         LCD        None  5681.197279    4096.0  1900.0   \n",
       "1524     6.001272         LCD        None  2048.000000   16384.0  2000.0   \n",
       "\n",
       "           OS  Screen resolution  Price  Mobile network  Camera count  \\\n",
       "268   android          2592000.0   5990             4.0             5   \n",
       "269   android          2851200.0  20990             5.0             2   \n",
       "270   android          2527200.0  16990             5.0             4   \n",
       "271   android          2527200.0  18490             5.0             4   \n",
       "272   android          2527200.0  20990             5.0             4   \n",
       "...       ...                ...    ...             ...           ...   \n",
       "1516  android          1120000.0   2090             4.0             2   \n",
       "1517  android          1152000.0   2640             4.0             4   \n",
       "1518  android          1152000.0   2890             4.0             4   \n",
       "1523     None            76800.0    890             4.0             1   \n",
       "1524     None           921600.0    790             4.0             2   \n",
       "\n",
       "      Camera max MP  \n",
       "268           108.0  \n",
       "269            12.0  \n",
       "270            50.0  \n",
       "271            50.0  \n",
       "272            50.0  \n",
       "...             ...  \n",
       "1516           13.0  \n",
       "1517           13.0  \n",
       "1518           13.0  \n",
       "1523            3.0  \n",
       "1524            5.0  \n",
       "\n",
       "[898 rows x 12 columns]"
      ]
     },
     "execution_count": 35,
     "metadata": {},
     "output_type": "execute_result"
    }
   ],
   "source": [
    "def mean_imputation(data, column):\n",
    "  data[column] = data[column].fillna(data[column].mean())\n",
    "  return data\n",
    "\n",
    "mean_imputation(data, 'Screen size')\n",
    "mean_imputation(data, 'RAM')\n",
    "mean_imputation(data, 'ROM')\n",
    "mean_imputation(data, 'Batery')\n",
    "mean_imputation(data, 'Screen resolution')\n",
    "mean_imputation(data, 'Camera max MP')\n",
    "mean_imputation(data, 'Mobile network')"
   ]
  },
  {
   "cell_type": "markdown",
   "metadata": {},
   "source": [
    "##### Arbitrary imputation "
   ]
  },
  {
   "cell_type": "code",
   "execution_count": 36,
   "metadata": {},
   "outputs": [
    {
     "data": {
      "text/html": [
       "<div>\n",
       "<style scoped>\n",
       "    .dataframe tbody tr th:only-of-type {\n",
       "        vertical-align: middle;\n",
       "    }\n",
       "\n",
       "    .dataframe tbody tr th {\n",
       "        vertical-align: top;\n",
       "    }\n",
       "\n",
       "    .dataframe thead th {\n",
       "        text-align: right;\n",
       "    }\n",
       "</style>\n",
       "<table border=\"1\" class=\"dataframe\">\n",
       "  <thead>\n",
       "    <tr style=\"text-align: right;\">\n",
       "      <th></th>\n",
       "      <th>Screen size</th>\n",
       "      <th>Screen type</th>\n",
       "      <th>Chip</th>\n",
       "      <th>RAM</th>\n",
       "      <th>ROM</th>\n",
       "      <th>Batery</th>\n",
       "      <th>OS</th>\n",
       "      <th>Screen resolution</th>\n",
       "      <th>Price</th>\n",
       "      <th>Mobile network</th>\n",
       "      <th>Camera count</th>\n",
       "      <th>Camera max MP</th>\n",
       "    </tr>\n",
       "  </thead>\n",
       "  <tbody>\n",
       "    <tr>\n",
       "      <th>268</th>\n",
       "      <td>6.670000</td>\n",
       "      <td>OLED</td>\n",
       "      <td>snapdragon</td>\n",
       "      <td>8192.000000</td>\n",
       "      <td>131072.0</td>\n",
       "      <td>5020.0</td>\n",
       "      <td>android</td>\n",
       "      <td>2592000.0</td>\n",
       "      <td>5990</td>\n",
       "      <td>4.0</td>\n",
       "      <td>5</td>\n",
       "      <td>108.0</td>\n",
       "    </tr>\n",
       "    <tr>\n",
       "      <th>269</th>\n",
       "      <td>6.001272</td>\n",
       "      <td>OLED</td>\n",
       "      <td>snapdragon</td>\n",
       "      <td>8192.000000</td>\n",
       "      <td>131072.0</td>\n",
       "      <td>3300.0</td>\n",
       "      <td>android</td>\n",
       "      <td>2851200.0</td>\n",
       "      <td>20990</td>\n",
       "      <td>5.0</td>\n",
       "      <td>2</td>\n",
       "      <td>12.0</td>\n",
       "    </tr>\n",
       "    <tr>\n",
       "      <th>270</th>\n",
       "      <td>6.100000</td>\n",
       "      <td>OLED</td>\n",
       "      <td>snapdragon</td>\n",
       "      <td>8192.000000</td>\n",
       "      <td>131072.0</td>\n",
       "      <td>3700.0</td>\n",
       "      <td>android</td>\n",
       "      <td>2527200.0</td>\n",
       "      <td>16990</td>\n",
       "      <td>5.0</td>\n",
       "      <td>4</td>\n",
       "      <td>50.0</td>\n",
       "    </tr>\n",
       "    <tr>\n",
       "      <th>271</th>\n",
       "      <td>6.100000</td>\n",
       "      <td>OLED</td>\n",
       "      <td>snapdragon</td>\n",
       "      <td>8192.000000</td>\n",
       "      <td>262144.0</td>\n",
       "      <td>3700.0</td>\n",
       "      <td>android</td>\n",
       "      <td>2527200.0</td>\n",
       "      <td>18490</td>\n",
       "      <td>5.0</td>\n",
       "      <td>4</td>\n",
       "      <td>50.0</td>\n",
       "    </tr>\n",
       "    <tr>\n",
       "      <th>272</th>\n",
       "      <td>6.600000</td>\n",
       "      <td>OLED</td>\n",
       "      <td>snapdragon</td>\n",
       "      <td>8192.000000</td>\n",
       "      <td>262144.0</td>\n",
       "      <td>4500.0</td>\n",
       "      <td>android</td>\n",
       "      <td>2527200.0</td>\n",
       "      <td>20990</td>\n",
       "      <td>5.0</td>\n",
       "      <td>4</td>\n",
       "      <td>50.0</td>\n",
       "    </tr>\n",
       "    <tr>\n",
       "      <th>...</th>\n",
       "      <td>...</td>\n",
       "      <td>...</td>\n",
       "      <td>...</td>\n",
       "      <td>...</td>\n",
       "      <td>...</td>\n",
       "      <td>...</td>\n",
       "      <td>...</td>\n",
       "      <td>...</td>\n",
       "      <td>...</td>\n",
       "      <td>...</td>\n",
       "      <td>...</td>\n",
       "      <td>...</td>\n",
       "    </tr>\n",
       "    <tr>\n",
       "      <th>1516</th>\n",
       "      <td>6.530000</td>\n",
       "      <td>LCD</td>\n",
       "      <td>mediatek</td>\n",
       "      <td>2048.000000</td>\n",
       "      <td>32768.0</td>\n",
       "      <td>5000.0</td>\n",
       "      <td>android</td>\n",
       "      <td>1120000.0</td>\n",
       "      <td>2090</td>\n",
       "      <td>4.0</td>\n",
       "      <td>2</td>\n",
       "      <td>13.0</td>\n",
       "    </tr>\n",
       "    <tr>\n",
       "      <th>1517</th>\n",
       "      <td>6.530000</td>\n",
       "      <td>LCD</td>\n",
       "      <td>mediatek</td>\n",
       "      <td>3072.000000</td>\n",
       "      <td>65536.0</td>\n",
       "      <td>5000.0</td>\n",
       "      <td>android</td>\n",
       "      <td>1152000.0</td>\n",
       "      <td>2640</td>\n",
       "      <td>4.0</td>\n",
       "      <td>4</td>\n",
       "      <td>13.0</td>\n",
       "    </tr>\n",
       "    <tr>\n",
       "      <th>1518</th>\n",
       "      <td>6.530000</td>\n",
       "      <td>LCD</td>\n",
       "      <td>mediatek</td>\n",
       "      <td>4096.000000</td>\n",
       "      <td>131072.0</td>\n",
       "      <td>5000.0</td>\n",
       "      <td>android</td>\n",
       "      <td>1152000.0</td>\n",
       "      <td>2890</td>\n",
       "      <td>4.0</td>\n",
       "      <td>4</td>\n",
       "      <td>13.0</td>\n",
       "    </tr>\n",
       "    <tr>\n",
       "      <th>1523</th>\n",
       "      <td>2.400000</td>\n",
       "      <td>LCD</td>\n",
       "      <td>None</td>\n",
       "      <td>5681.197279</td>\n",
       "      <td>4096.0</td>\n",
       "      <td>1900.0</td>\n",
       "      <td>ios</td>\n",
       "      <td>76800.0</td>\n",
       "      <td>890</td>\n",
       "      <td>4.0</td>\n",
       "      <td>1</td>\n",
       "      <td>3.0</td>\n",
       "    </tr>\n",
       "    <tr>\n",
       "      <th>1524</th>\n",
       "      <td>6.001272</td>\n",
       "      <td>LCD</td>\n",
       "      <td>None</td>\n",
       "      <td>2048.000000</td>\n",
       "      <td>16384.0</td>\n",
       "      <td>2000.0</td>\n",
       "      <td>ios</td>\n",
       "      <td>921600.0</td>\n",
       "      <td>790</td>\n",
       "      <td>4.0</td>\n",
       "      <td>2</td>\n",
       "      <td>5.0</td>\n",
       "    </tr>\n",
       "  </tbody>\n",
       "</table>\n",
       "<p>898 rows × 12 columns</p>\n",
       "</div>"
      ],
      "text/plain": [
       "      Screen size Screen type        Chip          RAM       ROM  Batery  \\\n",
       "268      6.670000        OLED  snapdragon  8192.000000  131072.0  5020.0   \n",
       "269      6.001272        OLED  snapdragon  8192.000000  131072.0  3300.0   \n",
       "270      6.100000        OLED  snapdragon  8192.000000  131072.0  3700.0   \n",
       "271      6.100000        OLED  snapdragon  8192.000000  262144.0  3700.0   \n",
       "272      6.600000        OLED  snapdragon  8192.000000  262144.0  4500.0   \n",
       "...           ...         ...         ...          ...       ...     ...   \n",
       "1516     6.530000         LCD    mediatek  2048.000000   32768.0  5000.0   \n",
       "1517     6.530000         LCD    mediatek  3072.000000   65536.0  5000.0   \n",
       "1518     6.530000         LCD    mediatek  4096.000000  131072.0  5000.0   \n",
       "1523     2.400000         LCD        None  5681.197279    4096.0  1900.0   \n",
       "1524     6.001272         LCD        None  2048.000000   16384.0  2000.0   \n",
       "\n",
       "           OS  Screen resolution  Price  Mobile network  Camera count  \\\n",
       "268   android          2592000.0   5990             4.0             5   \n",
       "269   android          2851200.0  20990             5.0             2   \n",
       "270   android          2527200.0  16990             5.0             4   \n",
       "271   android          2527200.0  18490             5.0             4   \n",
       "272   android          2527200.0  20990             5.0             4   \n",
       "...       ...                ...    ...             ...           ...   \n",
       "1516  android          1120000.0   2090             4.0             2   \n",
       "1517  android          1152000.0   2640             4.0             4   \n",
       "1518  android          1152000.0   2890             4.0             4   \n",
       "1523      ios            76800.0    890             4.0             1   \n",
       "1524      ios           921600.0    790             4.0             2   \n",
       "\n",
       "      Camera max MP  \n",
       "268           108.0  \n",
       "269            12.0  \n",
       "270            50.0  \n",
       "271            50.0  \n",
       "272            50.0  \n",
       "...             ...  \n",
       "1516           13.0  \n",
       "1517           13.0  \n",
       "1518           13.0  \n",
       "1523            3.0  \n",
       "1524            5.0  \n",
       "\n",
       "[898 rows x 12 columns]"
      ]
     },
     "execution_count": 36,
     "metadata": {},
     "output_type": "execute_result"
    }
   ],
   "source": [
    "import numpy as np\n",
    "\n",
    "def arbitrary_imputation(data, column, arbitrary_list):\n",
    "    data[column] = data[column].fillna(arbitrary_list[np.random.randint(0, len(arbitrary_list))])\n",
    "    return data\n",
    "\n",
    "screen_type_list = data['Screen type'].dropna().unique().tolist()\n",
    "arbitrary_imputation(data, 'Screen type', screen_type_list)\n",
    "\n",
    "os_list = data['OS'].dropna().unique().tolist()\n",
    "arbitrary_imputation(data, 'OS', os_list)"
   ]
  },
  {
   "cell_type": "markdown",
   "metadata": {},
   "source": [
    "##### If OS is 'ios', then Chip is 'apple'"
   ]
  },
  {
   "cell_type": "code",
   "execution_count": 37,
   "metadata": {},
   "outputs": [
    {
     "data": {
      "text/html": [
       "<div>\n",
       "<style scoped>\n",
       "    .dataframe tbody tr th:only-of-type {\n",
       "        vertical-align: middle;\n",
       "    }\n",
       "\n",
       "    .dataframe tbody tr th {\n",
       "        vertical-align: top;\n",
       "    }\n",
       "\n",
       "    .dataframe thead th {\n",
       "        text-align: right;\n",
       "    }\n",
       "</style>\n",
       "<table border=\"1\" class=\"dataframe\">\n",
       "  <thead>\n",
       "    <tr style=\"text-align: right;\">\n",
       "      <th></th>\n",
       "      <th>Screen size</th>\n",
       "      <th>Screen type</th>\n",
       "      <th>Chip</th>\n",
       "      <th>RAM</th>\n",
       "      <th>ROM</th>\n",
       "      <th>Batery</th>\n",
       "      <th>OS</th>\n",
       "      <th>Screen resolution</th>\n",
       "      <th>Price</th>\n",
       "      <th>Mobile network</th>\n",
       "      <th>Camera count</th>\n",
       "      <th>Camera max MP</th>\n",
       "    </tr>\n",
       "  </thead>\n",
       "  <tbody>\n",
       "    <tr>\n",
       "      <th>268</th>\n",
       "      <td>6.670000</td>\n",
       "      <td>OLED</td>\n",
       "      <td>snapdragon</td>\n",
       "      <td>8192.000000</td>\n",
       "      <td>131072.0</td>\n",
       "      <td>5020.0</td>\n",
       "      <td>android</td>\n",
       "      <td>2592000.0</td>\n",
       "      <td>5990</td>\n",
       "      <td>4.0</td>\n",
       "      <td>5</td>\n",
       "      <td>108.0</td>\n",
       "    </tr>\n",
       "    <tr>\n",
       "      <th>269</th>\n",
       "      <td>6.001272</td>\n",
       "      <td>OLED</td>\n",
       "      <td>snapdragon</td>\n",
       "      <td>8192.000000</td>\n",
       "      <td>131072.0</td>\n",
       "      <td>3300.0</td>\n",
       "      <td>android</td>\n",
       "      <td>2851200.0</td>\n",
       "      <td>20990</td>\n",
       "      <td>5.0</td>\n",
       "      <td>2</td>\n",
       "      <td>12.0</td>\n",
       "    </tr>\n",
       "    <tr>\n",
       "      <th>270</th>\n",
       "      <td>6.100000</td>\n",
       "      <td>OLED</td>\n",
       "      <td>snapdragon</td>\n",
       "      <td>8192.000000</td>\n",
       "      <td>131072.0</td>\n",
       "      <td>3700.0</td>\n",
       "      <td>android</td>\n",
       "      <td>2527200.0</td>\n",
       "      <td>16990</td>\n",
       "      <td>5.0</td>\n",
       "      <td>4</td>\n",
       "      <td>50.0</td>\n",
       "    </tr>\n",
       "    <tr>\n",
       "      <th>271</th>\n",
       "      <td>6.100000</td>\n",
       "      <td>OLED</td>\n",
       "      <td>snapdragon</td>\n",
       "      <td>8192.000000</td>\n",
       "      <td>262144.0</td>\n",
       "      <td>3700.0</td>\n",
       "      <td>android</td>\n",
       "      <td>2527200.0</td>\n",
       "      <td>18490</td>\n",
       "      <td>5.0</td>\n",
       "      <td>4</td>\n",
       "      <td>50.0</td>\n",
       "    </tr>\n",
       "    <tr>\n",
       "      <th>272</th>\n",
       "      <td>6.600000</td>\n",
       "      <td>OLED</td>\n",
       "      <td>snapdragon</td>\n",
       "      <td>8192.000000</td>\n",
       "      <td>262144.0</td>\n",
       "      <td>4500.0</td>\n",
       "      <td>android</td>\n",
       "      <td>2527200.0</td>\n",
       "      <td>20990</td>\n",
       "      <td>5.0</td>\n",
       "      <td>4</td>\n",
       "      <td>50.0</td>\n",
       "    </tr>\n",
       "    <tr>\n",
       "      <th>...</th>\n",
       "      <td>...</td>\n",
       "      <td>...</td>\n",
       "      <td>...</td>\n",
       "      <td>...</td>\n",
       "      <td>...</td>\n",
       "      <td>...</td>\n",
       "      <td>...</td>\n",
       "      <td>...</td>\n",
       "      <td>...</td>\n",
       "      <td>...</td>\n",
       "      <td>...</td>\n",
       "      <td>...</td>\n",
       "    </tr>\n",
       "    <tr>\n",
       "      <th>1516</th>\n",
       "      <td>6.530000</td>\n",
       "      <td>LCD</td>\n",
       "      <td>mediatek</td>\n",
       "      <td>2048.000000</td>\n",
       "      <td>32768.0</td>\n",
       "      <td>5000.0</td>\n",
       "      <td>android</td>\n",
       "      <td>1120000.0</td>\n",
       "      <td>2090</td>\n",
       "      <td>4.0</td>\n",
       "      <td>2</td>\n",
       "      <td>13.0</td>\n",
       "    </tr>\n",
       "    <tr>\n",
       "      <th>1517</th>\n",
       "      <td>6.530000</td>\n",
       "      <td>LCD</td>\n",
       "      <td>mediatek</td>\n",
       "      <td>3072.000000</td>\n",
       "      <td>65536.0</td>\n",
       "      <td>5000.0</td>\n",
       "      <td>android</td>\n",
       "      <td>1152000.0</td>\n",
       "      <td>2640</td>\n",
       "      <td>4.0</td>\n",
       "      <td>4</td>\n",
       "      <td>13.0</td>\n",
       "    </tr>\n",
       "    <tr>\n",
       "      <th>1518</th>\n",
       "      <td>6.530000</td>\n",
       "      <td>LCD</td>\n",
       "      <td>mediatek</td>\n",
       "      <td>4096.000000</td>\n",
       "      <td>131072.0</td>\n",
       "      <td>5000.0</td>\n",
       "      <td>android</td>\n",
       "      <td>1152000.0</td>\n",
       "      <td>2890</td>\n",
       "      <td>4.0</td>\n",
       "      <td>4</td>\n",
       "      <td>13.0</td>\n",
       "    </tr>\n",
       "    <tr>\n",
       "      <th>1523</th>\n",
       "      <td>2.400000</td>\n",
       "      <td>LCD</td>\n",
       "      <td>apple</td>\n",
       "      <td>5681.197279</td>\n",
       "      <td>4096.0</td>\n",
       "      <td>1900.0</td>\n",
       "      <td>ios</td>\n",
       "      <td>76800.0</td>\n",
       "      <td>890</td>\n",
       "      <td>4.0</td>\n",
       "      <td>1</td>\n",
       "      <td>3.0</td>\n",
       "    </tr>\n",
       "    <tr>\n",
       "      <th>1524</th>\n",
       "      <td>6.001272</td>\n",
       "      <td>LCD</td>\n",
       "      <td>apple</td>\n",
       "      <td>2048.000000</td>\n",
       "      <td>16384.0</td>\n",
       "      <td>2000.0</td>\n",
       "      <td>ios</td>\n",
       "      <td>921600.0</td>\n",
       "      <td>790</td>\n",
       "      <td>4.0</td>\n",
       "      <td>2</td>\n",
       "      <td>5.0</td>\n",
       "    </tr>\n",
       "  </tbody>\n",
       "</table>\n",
       "<p>898 rows × 12 columns</p>\n",
       "</div>"
      ],
      "text/plain": [
       "      Screen size Screen type        Chip          RAM       ROM  Batery  \\\n",
       "268      6.670000        OLED  snapdragon  8192.000000  131072.0  5020.0   \n",
       "269      6.001272        OLED  snapdragon  8192.000000  131072.0  3300.0   \n",
       "270      6.100000        OLED  snapdragon  8192.000000  131072.0  3700.0   \n",
       "271      6.100000        OLED  snapdragon  8192.000000  262144.0  3700.0   \n",
       "272      6.600000        OLED  snapdragon  8192.000000  262144.0  4500.0   \n",
       "...           ...         ...         ...          ...       ...     ...   \n",
       "1516     6.530000         LCD    mediatek  2048.000000   32768.0  5000.0   \n",
       "1517     6.530000         LCD    mediatek  3072.000000   65536.0  5000.0   \n",
       "1518     6.530000         LCD    mediatek  4096.000000  131072.0  5000.0   \n",
       "1523     2.400000         LCD       apple  5681.197279    4096.0  1900.0   \n",
       "1524     6.001272         LCD       apple  2048.000000   16384.0  2000.0   \n",
       "\n",
       "           OS  Screen resolution  Price  Mobile network  Camera count  \\\n",
       "268   android          2592000.0   5990             4.0             5   \n",
       "269   android          2851200.0  20990             5.0             2   \n",
       "270   android          2527200.0  16990             5.0             4   \n",
       "271   android          2527200.0  18490             5.0             4   \n",
       "272   android          2527200.0  20990             5.0             4   \n",
       "...       ...                ...    ...             ...           ...   \n",
       "1516  android          1120000.0   2090             4.0             2   \n",
       "1517  android          1152000.0   2640             4.0             4   \n",
       "1518  android          1152000.0   2890             4.0             4   \n",
       "1523      ios            76800.0    890             4.0             1   \n",
       "1524      ios           921600.0    790             4.0             2   \n",
       "\n",
       "      Camera max MP  \n",
       "268           108.0  \n",
       "269            12.0  \n",
       "270            50.0  \n",
       "271            50.0  \n",
       "272            50.0  \n",
       "...             ...  \n",
       "1516           13.0  \n",
       "1517           13.0  \n",
       "1518           13.0  \n",
       "1523            3.0  \n",
       "1524            5.0  \n",
       "\n",
       "[898 rows x 12 columns]"
      ]
     },
     "execution_count": 37,
     "metadata": {},
     "output_type": "execute_result"
    }
   ],
   "source": [
    "def chip_with_os_ios(data):\n",
    "    data.loc[data['OS'] == 'ios', 'Chip'] = 'apple'\n",
    "\n",
    "chip_with_os_ios(data)\n",
    "\n",
    "chip_list = data['Chip'].dropna().unique().tolist()\n",
    "chip_list = list(filter(lambda x: x != 'apple', chip_list))\n",
    "arbitrary_imputation(data, 'Chip', chip_list)"
   ]
  },
  {
   "cell_type": "markdown",
   "metadata": {},
   "source": [
    "### 📝 Export data to csv"
   ]
  },
  {
   "cell_type": "code",
   "execution_count": 38,
   "metadata": {},
   "outputs": [],
   "source": [
    "data.to_csv('clean_data/clean_data.csv', index=False)"
   ]
  }
 ],
 "metadata": {
  "interpreter": {
   "hash": "11938c6bc6919ae2720b4d5011047913343b08a43b18698fd82dedb0d4417594"
  },
  "kernelspec": {
   "display_name": "Python 3.9.7 64-bit",
   "language": "python",
   "name": "python3"
  },
  "language_info": {
   "codemirror_mode": {
    "name": "ipython",
    "version": 3
   },
   "file_extension": ".py",
   "mimetype": "text/x-python",
   "name": "python",
   "nbconvert_exporter": "python",
   "pygments_lexer": "ipython3",
   "version": "3.9.7"
  },
  "orig_nbformat": 4
 },
 "nbformat": 4,
 "nbformat_minor": 2
}
